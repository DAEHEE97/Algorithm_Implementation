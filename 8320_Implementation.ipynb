{
 "cells": [
  {
   "cell_type": "markdown",
   "id": "a2c1b891",
   "metadata": {},
   "source": [
    "# 직사각형을 만드는 방법\n",
    "\n",
    "- [직사각형을 만드는 방법](https://www.acmicpc.net/problem/8320)"
   ]
  },
  {
   "cell_type": "markdown",
   "id": "1895d6ea",
   "metadata": {},
   "source": [
    "---"
   ]
  },
  {
   "cell_type": "markdown",
   "id": "27932ae3",
   "metadata": {},
   "source": [
    "## 문제\n",
    "상근이는 변의 길이가 1인 정사각형 n개를 가지고 있다. 이 정사각형을 이용해서 만들 수 있는 직사각형의 개수는 총 몇 개일까?\n",
    "\n",
    "두 직사각형 A와 B가 있을 때, A를 이동, 회전시켜서 B를 만들 수 없으면, 두 직사각형은 다르다고 한다. 직사각형을 만들 때, 정사각형을 변형시키거나, 한 정사각형 위에 다른 정사각형을 놓을 수 없다. 또, 직사각형은 정사각형으로 꽉 차있어야 한다.\n",
    "\n",
    "## 입력\n",
    "첫째 줄에 n (1 ≤ n ≤ 10,000)이 주어진다.\n",
    "\n",
    "## 출력\n",
    "만들 수 있는 직사각형의 개수를 출력한다."
   ]
  },
  {
   "cell_type": "markdown",
   "id": "eca1d1d1",
   "metadata": {},
   "source": [
    "---"
   ]
  },
  {
   "cell_type": "code",
   "execution_count": 4,
   "id": "78000d0f",
   "metadata": {},
   "outputs": [
    {
     "data": {
      "text/plain": [
       "1"
      ]
     },
     "execution_count": 4,
     "metadata": {},
     "output_type": "execute_result"
    }
   ],
   "source": [
    "3 // 2"
   ]
  },
  {
   "cell_type": "code",
   "execution_count": null,
   "id": "9a920205",
   "metadata": {},
   "outputs": [],
   "source": [
    "2 > 1\n",
    "\n",
    "3 > 2\n",
    "\n",
    "4 > 2\n",
    "\n",
    "5 > 3"
   ]
  },
  {
   "cell_type": "markdown",
   "id": "e591f385",
   "metadata": {},
   "source": [
    "## Memo\n",
    "약수 개수\n",
    "\n",
    "1 > 1 1 \n",
    "2 > 1 2 2 1\n",
    "\n",
    "4 > 1 4 2 2 4 1 (3개) > 2개\n",
    "\n",
    "5 > 1 5 5 1 (2개) > 1개\n",
    "\n",
    "6 > 1 6 2 3 3 2 6 1 (4개) > 2개\n",
    "\n",
    "\n",
    "1. 짝수는 // 2, 홀수는 // 2 + 1 이 나와야함.\n",
    "\n",
    "2. (cnt+1) // 2 로 처리"
   ]
  },
  {
   "cell_type": "code",
   "execution_count": 24,
   "id": "9a9fd185",
   "metadata": {},
   "outputs": [
    {
     "data": {
      "text/plain": [
       "1"
      ]
     },
     "execution_count": 24,
     "metadata": {},
     "output_type": "execute_result"
    }
   ],
   "source": [
    "3 // 2 # 2가 나와야함."
   ]
  },
  {
   "cell_type": "code",
   "execution_count": 25,
   "id": "bd83b604",
   "metadata": {},
   "outputs": [
    {
     "data": {
      "text/plain": [
       "1"
      ]
     },
     "execution_count": 25,
     "metadata": {},
     "output_type": "execute_result"
    }
   ],
   "source": [
    "2 // 2 # 1이 나와야함"
   ]
  },
  {
   "cell_type": "code",
   "execution_count": 31,
   "id": "5e7f3863",
   "metadata": {},
   "outputs": [
    {
     "name": "stdout",
     "output_type": "stream",
     "text": [
      "100\n",
      "246\n"
     ]
    }
   ],
   "source": [
    "N = int(input())\n",
    "\n",
    "ans = 0\n",
    "\n",
    "# 1) 약수의 개수 \n",
    "for n in range(1, N+1):\n",
    "    \n",
    "    cnt = 0\n",
    "    \n",
    "    for i in range(1, n+1):\n",
    "        if n % i == 0:\n",
    "            cnt += 1\n",
    "    \n",
    "    # 2) 짝수 홀수 처리 \n",
    "    ans += (cnt+1) // 2\n",
    "    \n",
    "\n",
    "print(ans)"
   ]
  },
  {
   "cell_type": "markdown",
   "id": "4a111595",
   "metadata": {},
   "source": [
    "---"
   ]
  },
  {
   "cell_type": "code",
   "execution_count": 32,
   "id": "f58921cc",
   "metadata": {},
   "outputs": [
    {
     "name": "stdout",
     "output_type": "stream",
     "text": [
      "100\n",
      "246\n"
     ]
    }
   ],
   "source": [
    "N = int(input())\n",
    "\n",
    "# [2] 몫 연산을 통해서 처리\n",
    "ans = N\n",
    "for i in range(2, N):\n",
    "    n = N//i - (i-1)\n",
    "    if n<1:\n",
    "        break\n",
    "    ans += n\n",
    "print(ans)"
   ]
  },
  {
   "cell_type": "markdown",
   "id": "fa720e3d",
   "metadata": {},
   "source": [
    "---"
   ]
  },
  {
   "cell_type": "code",
   "execution_count": 33,
   "id": "462fb078",
   "metadata": {},
   "outputs": [
    {
     "name": "stdout",
     "output_type": "stream",
     "text": [
      "100\n",
      "246\n"
     ]
    }
   ],
   "source": [
    "N = int(input())\n",
    "\n",
    "# #[1] 가능한 경우를 모두 순회\n",
    "ans = 0\n",
    "\n",
    "for i in range(1, N+1):\n",
    "\n",
    "    for j in range(i, N+1):\n",
    "    \n",
    "        if i*j <= N:\n",
    "            ans += 1\n",
    "print(ans)"
   ]
  }
 ],
 "metadata": {
  "kernelspec": {
   "display_name": "Python 3 (ipykernel)",
   "language": "python",
   "name": "python3"
  },
  "language_info": {
   "codemirror_mode": {
    "name": "ipython",
    "version": 3
   },
   "file_extension": ".py",
   "mimetype": "text/x-python",
   "name": "python",
   "nbconvert_exporter": "python",
   "pygments_lexer": "ipython3",
   "version": "3.8.16"
  },
  "toc": {
   "base_numbering": 1,
   "nav_menu": {},
   "number_sections": true,
   "sideBar": true,
   "skip_h1_title": false,
   "title_cell": "Table of Contents",
   "title_sidebar": "Contents",
   "toc_cell": false,
   "toc_position": {},
   "toc_section_display": true,
   "toc_window_display": false
  },
  "varInspector": {
   "cols": {
    "lenName": 16,
    "lenType": 16,
    "lenVar": 40
   },
   "kernels_config": {
    "python": {
     "delete_cmd_postfix": "",
     "delete_cmd_prefix": "del ",
     "library": "var_list.py",
     "varRefreshCmd": "print(var_dic_list())"
    },
    "r": {
     "delete_cmd_postfix": ") ",
     "delete_cmd_prefix": "rm(",
     "library": "var_list.r",
     "varRefreshCmd": "cat(var_dic_list()) "
    }
   },
   "types_to_exclude": [
    "module",
    "function",
    "builtin_function_or_method",
    "instance",
    "_Feature"
   ],
   "window_display": false
  }
 },
 "nbformat": 4,
 "nbformat_minor": 5
}
