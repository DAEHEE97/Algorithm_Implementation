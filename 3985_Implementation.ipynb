{
 "cells": [
  {
   "cell_type": "markdown",
   "id": "69edabaf",
   "metadata": {},
   "source": [
    "# 롤 케이크_구현\n",
    "\n",
    "- [롤 케이크_구현](https://www.acmicpc.net/problem/3985)"
   ]
  },
  {
   "cell_type": "markdown",
   "id": "09c7c566",
   "metadata": {},
   "source": [
    "- index 처리"
   ]
  },
  {
   "cell_type": "code",
   "execution_count": null,
   "id": "330286de",
   "metadata": {},
   "outputs": [],
   "source": [
    "\n",
    "C = int(input())\n",
    "\n",
    "lst = [0] * (C+1)\n",
    "\n",
    "N = int(input())\n",
    "\n",
    "\n",
    "ans1 = [0]\n",
    "ans2 = [0]\n",
    "\n",
    "for i in range(1, N+1):\n",
    "    \n",
    "    s,e = map(int, input().split())\n",
    "    ans1.append(e-s)\n",
    "    \n",
    "    for idx in range(s, e+1):\n",
    "        if lst[idx] == 0:\n",
    "            lst[idx] = i\n",
    "        \n",
    "    \n",
    "for i in range(1, N+1):\n",
    "    ans2.append(lst.count(i)) \n",
    "    \n",
    "print(ans1.index(max(ans1)))\n",
    "print(ans2.index(max(ans2)))"
   ]
  },
  {
   "cell_type": "markdown",
   "id": "e6ec8053",
   "metadata": {},
   "source": [
    "---"
   ]
  },
  {
   "cell_type": "code",
   "execution_count": null,
   "id": "6ac016b7",
   "metadata": {},
   "outputs": [],
   "source": [
    "C = int(input())\n",
    "\n",
    "lst = [1] * (C+1)\n",
    "\n",
    "N = int(input())\n",
    "\n",
    "\n",
    "max1 = 0\n",
    "max2 = 0 \n",
    "\n",
    "mx1_i = 0\n",
    "mx2_i = 0\n",
    "\n",
    "for i in range(1, N+1):      # 방청객 번호 순으로 반복\n",
    "    \n",
    "    s, e = map(int, input().split())\n",
    "    \n",
    "    if max1 < (e-s+1):       \n",
    "        max1, mx1_i = (e-s +1), i\n",
    "\n",
    "        \n",
    "    cnt = sum(lst[s:e+1])    # i번 방청객이 가져감 \n",
    "    \n",
    "    if cnt > max2:\n",
    "        max2, mx2_i = cnt, i\n",
    "    \n",
    "    lst[s:e+1] = [0]*(e-s +1) # 가져간만큼 개수를 0으로 처리\n",
    "\n",
    "    \n",
    "print(mx1_i)\n",
    "print(mx2_i)"
   ]
  }
 ],
 "metadata": {
  "kernelspec": {
   "display_name": "Python 3 (ipykernel)",
   "language": "python",
   "name": "python3"
  },
  "language_info": {
   "codemirror_mode": {
    "name": "ipython",
    "version": 3
   },
   "file_extension": ".py",
   "mimetype": "text/x-python",
   "name": "python",
   "nbconvert_exporter": "python",
   "pygments_lexer": "ipython3",
   "version": "3.8.16"
  },
  "toc": {
   "base_numbering": 1,
   "nav_menu": {},
   "number_sections": true,
   "sideBar": true,
   "skip_h1_title": false,
   "title_cell": "Table of Contents",
   "title_sidebar": "Contents",
   "toc_cell": false,
   "toc_position": {},
   "toc_section_display": true,
   "toc_window_display": false
  },
  "varInspector": {
   "cols": {
    "lenName": 16,
    "lenType": 16,
    "lenVar": 40
   },
   "kernels_config": {
    "python": {
     "delete_cmd_postfix": "",
     "delete_cmd_prefix": "del ",
     "library": "var_list.py",
     "varRefreshCmd": "print(var_dic_list())"
    },
    "r": {
     "delete_cmd_postfix": ") ",
     "delete_cmd_prefix": "rm(",
     "library": "var_list.r",
     "varRefreshCmd": "cat(var_dic_list()) "
    }
   },
   "types_to_exclude": [
    "module",
    "function",
    "builtin_function_or_method",
    "instance",
    "_Feature"
   ],
   "window_display": false
  }
 },
 "nbformat": 4,
 "nbformat_minor": 5
}
