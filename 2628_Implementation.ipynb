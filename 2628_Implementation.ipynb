{
 "cells": [
  {
   "cell_type": "markdown",
   "id": "dfc1ca79",
   "metadata": {},
   "source": [
    "# 종이자르기\n",
    "\n",
    "- [종이자르기](https://www.acmicpc.net/problem/2628)"
   ]
  },
  {
   "cell_type": "markdown",
   "id": "e2b9a5d7",
   "metadata": {},
   "source": [
    "## Memo\n",
    "\n",
    "\n",
    "- 2차원 arr 처리 말고, 입력 lst로 처리\n",
    "\n",
    "- 가로를 자르는 선이 세로를 구성 >, 세로를 자르는선이 가로를 구성 \n",
    "\n"
   ]
  },
  {
   "cell_type": "code",
   "execution_count": 1,
   "id": "202bb7f6",
   "metadata": {},
   "outputs": [
    {
     "name": "stdout",
     "output_type": "stream",
     "text": [
      "10 8\n",
      "3\n",
      "0 3\n",
      "1 4\n",
      "0 2\n",
      "30\n"
     ]
    }
   ],
   "source": [
    "\n",
    "# 1) 입력\n",
    "w, h  = map(int, input().split())\n",
    "\n",
    "w_lst = [0, w]\n",
    "h_lst = [0, h]\n",
    "\n",
    "N = int(input())\n",
    "\n",
    "\n",
    "for _ in range(N):\n",
    "    \n",
    "    c, n = map(int, input().split())\n",
    "    \n",
    "    if c == 0:\n",
    "        h_lst.append(n)\n",
    "    else:\n",
    "        w_lst.append(n)\n",
    "        \n",
    "\n",
    "# 2) 정렬\n",
    "\n",
    "w_lst.sort()\n",
    "h_lst.sort()\n",
    "\n",
    "\n",
    "# 3) 거리 차이 \n",
    "\n",
    "w_lst = [ w_lst[i] - w_lst[i-1] for i in range(1, len(w_lst)) ]\n",
    "\n",
    "h_lst = [ h_lst[i] - h_lst[i-1] for i in range(1, len(h_lst)) ]\n",
    "\n",
    "\n",
    "# 4) 출력\n",
    "\n",
    "ans = max(w_lst) * max(h_lst)\n",
    "\n",
    "print(ans)"
   ]
  },
  {
   "cell_type": "markdown",
   "id": "45814a41",
   "metadata": {},
   "source": [
    "---"
   ]
  },
  {
   "cell_type": "code",
   "execution_count": null,
   "id": "a0708914",
   "metadata": {},
   "outputs": [],
   "source": [
    "C, R = map(int, input().split())\n",
    "\n",
    "\n",
    "r_lst = [0, R]\n",
    "c_lst = [0, C]\n",
    "\n",
    "N = int(input())\n",
    "\n",
    "for _ in range(N):\n",
    "    t, n = map(int, input().split())\n",
    "    if t == 0:\n",
    "        r_lst.append(n)\n",
    "    else:\n",
    "        c_lst.append(n)\n",
    "\n",
    "\n",
    "r_lst.sort()\n",
    "c_lst.sort()\n",
    "\n",
    "r_mx = 0\n",
    "\n",
    "for i in range(1, len(r_lst)):\n",
    "    r_mx = max(r_mx, r_lst[i]-r_lst[i-1])\n",
    "\n",
    "\n",
    "c_mx = 0\n",
    "\n",
    "for i in range(1, len(c_lst)):\n",
    "    c_mx = max(c_mx, c_lst[i]-c_lst[i-1])\n",
    "\n",
    "print(r_mx*c_mx)"
   ]
  }
 ],
 "metadata": {
  "kernelspec": {
   "display_name": "Python 3 (ipykernel)",
   "language": "python",
   "name": "python3"
  },
  "language_info": {
   "codemirror_mode": {
    "name": "ipython",
    "version": 3
   },
   "file_extension": ".py",
   "mimetype": "text/x-python",
   "name": "python",
   "nbconvert_exporter": "python",
   "pygments_lexer": "ipython3",
   "version": "3.8.16"
  },
  "toc": {
   "base_numbering": 1,
   "nav_menu": {},
   "number_sections": true,
   "sideBar": true,
   "skip_h1_title": false,
   "title_cell": "Table of Contents",
   "title_sidebar": "Contents",
   "toc_cell": false,
   "toc_position": {},
   "toc_section_display": true,
   "toc_window_display": false
  },
  "varInspector": {
   "cols": {
    "lenName": 16,
    "lenType": 16,
    "lenVar": 40
   },
   "kernels_config": {
    "python": {
     "delete_cmd_postfix": "",
     "delete_cmd_prefix": "del ",
     "library": "var_list.py",
     "varRefreshCmd": "print(var_dic_list())"
    },
    "r": {
     "delete_cmd_postfix": ") ",
     "delete_cmd_prefix": "rm(",
     "library": "var_list.r",
     "varRefreshCmd": "cat(var_dic_list()) "
    }
   },
   "types_to_exclude": [
    "module",
    "function",
    "builtin_function_or_method",
    "instance",
    "_Feature"
   ],
   "window_display": false
  }
 },
 "nbformat": 4,
 "nbformat_minor": 5
}
