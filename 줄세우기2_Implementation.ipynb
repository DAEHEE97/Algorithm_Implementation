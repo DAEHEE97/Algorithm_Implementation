{
 "cells": [
  {
   "cell_type": "markdown",
   "id": "00777a43",
   "metadata": {},
   "source": [
    "# 줄세우기2_구현\n",
    "\n",
    "[줄세우기2_구현](https://www.acmicpc.net/problem/10431)\n",
    "\n",
    "\n",
    "- 삽입정렬\n",
    "\n",
    "- 정렬된 상태 유지, 실제 정렬 x\n",
    "\n",
    "- cnt \n"
   ]
  },
  {
   "cell_type": "markdown",
   "id": "5de20640",
   "metadata": {},
   "source": [
    "---"
   ]
  },
  {
   "cell_type": "code",
   "execution_count": 1,
   "id": "f5c6516e",
   "metadata": {},
   "outputs": [
    {
     "name": "stdout",
     "output_type": "stream",
     "text": [
      "1 2 3 4 5\n"
     ]
    },
    {
     "data": {
      "text/plain": [
       "[2, 3, 4, 5]"
      ]
     },
     "execution_count": 1,
     "metadata": {},
     "output_type": "execute_result"
    }
   ],
   "source": [
    "lst = list(map(int, input().split()))\n",
    "lst.pop(0)\n",
    "lst"
   ]
  },
  {
   "cell_type": "markdown",
   "id": "691c860f",
   "metadata": {},
   "source": [
    "---"
   ]
  },
  {
   "cell_type": "code",
   "execution_count": 2,
   "id": "7662113b",
   "metadata": {},
   "outputs": [
    {
     "name": "stdout",
     "output_type": "stream",
     "text": [
      "1 2 3 4 5\n"
     ]
    },
    {
     "data": {
      "text/plain": [
       "[2, 3, 4, 5]"
      ]
     },
     "execution_count": 2,
     "metadata": {},
     "output_type": "execute_result"
    }
   ],
   "source": [
    "lst = list(map(int, input().split()))[1:]\n",
    "lst"
   ]
  },
  {
   "cell_type": "markdown",
   "id": "69b8bd2f",
   "metadata": {},
   "source": [
    "---"
   ]
  },
  {
   "cell_type": "code",
   "execution_count": null,
   "id": "40636b05",
   "metadata": {},
   "outputs": [],
   "source": [
    "T = int(input())\n",
    "\n",
    "for t in range(1, T+1):\n",
    "    \n",
    "    lst = list(map(int, input().split()))\n",
    "    lst.pop(0)\n",
    "    \n",
    "    ans = 0\n",
    "    \n",
    "    # lst 1번 을 기준, 자기 보다 아래 0 번까지 \n",
    "    for i in range(1, 19 + 1):\n",
    "        \n",
    "        for j in range(i-1, -1, -1):\n",
    "            \n",
    "            if lst[j] > lst[i]:\n",
    "                ans +=1\n",
    "                \n",
    "    \n",
    "    print('{0} {1}'.format(t, ans))\n",
    "        \n",
    "    "
   ]
  },
  {
   "cell_type": "markdown",
   "id": "7af1f72c",
   "metadata": {},
   "source": [
    "---"
   ]
  },
  {
   "cell_type": "code",
   "execution_count": null,
   "id": "7e68fe65",
   "metadata": {},
   "outputs": [],
   "source": [
    "T = int(input())\n",
    "\n",
    "for t in range(1, T+1):\n",
    "    \n",
    "    lst = list(map(int, input().split()))[1:]\n",
    "\n",
    "    ans = 0\n",
    "    \n",
    "    for i in range(1, 20):\n",
    "         \n",
    "        for j in range(0, i):\n",
    "            \n",
    "            if lst[j] > lst[i]:\n",
    "                ans += 1\n",
    "                \n",
    "    print(f'{t} {ans}')"
   ]
  }
 ],
 "metadata": {
  "kernelspec": {
   "display_name": "Python 3 (ipykernel)",
   "language": "python",
   "name": "python3"
  },
  "language_info": {
   "codemirror_mode": {
    "name": "ipython",
    "version": 3
   },
   "file_extension": ".py",
   "mimetype": "text/x-python",
   "name": "python",
   "nbconvert_exporter": "python",
   "pygments_lexer": "ipython3",
   "version": "3.8.16"
  },
  "toc": {
   "base_numbering": 1,
   "nav_menu": {},
   "number_sections": true,
   "sideBar": true,
   "skip_h1_title": false,
   "title_cell": "Table of Contents",
   "title_sidebar": "Contents",
   "toc_cell": false,
   "toc_position": {},
   "toc_section_display": true,
   "toc_window_display": false
  },
  "varInspector": {
   "cols": {
    "lenName": 16,
    "lenType": 16,
    "lenVar": 40
   },
   "kernels_config": {
    "python": {
     "delete_cmd_postfix": "",
     "delete_cmd_prefix": "del ",
     "library": "var_list.py",
     "varRefreshCmd": "print(var_dic_list())"
    },
    "r": {
     "delete_cmd_postfix": ") ",
     "delete_cmd_prefix": "rm(",
     "library": "var_list.r",
     "varRefreshCmd": "cat(var_dic_list()) "
    }
   },
   "types_to_exclude": [
    "module",
    "function",
    "builtin_function_or_method",
    "instance",
    "_Feature"
   ],
   "window_display": false
  }
 },
 "nbformat": 4,
 "nbformat_minor": 5
}
