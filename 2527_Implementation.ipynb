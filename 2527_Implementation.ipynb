{
 "cells": [
  {
   "cell_type": "markdown",
   "id": "1b9e817d",
   "metadata": {},
   "source": [
    "# [직사각형_구현](https://www.acmicpc.net/problem/2527)\n",
    "\n",
    "- 수학\n",
    "- 구현\n",
    "- 시뮬레이션"
   ]
  },
  {
   "cell_type": "markdown",
   "id": "1581c94e",
   "metadata": {},
   "source": [
    "- 쉬운 케이스 부터 코딩, > 제일 복잡한 구조 else 로"
   ]
  },
  {
   "cell_type": "code",
   "execution_count": null,
   "id": "381713bd",
   "metadata": {},
   "outputs": [],
   "source": [
    "for _ in range(4):\n",
    "    \n",
    "    sj1,si1,ej1,ei1,sj2,si2,ej2,ei2 = map(int, input().split())\n",
    "    \n",
    "    if si1>ei2 or ei1<si2 or sj1>ej2 or ej1<sj2:    # 바깥쪽에 있는 경우\n",
    "        ans = 'd'\n",
    "    \n",
    "    elif ej1==sj2 or sj1==ej2:   # 세로가 일치(붙어있는 경우)\n",
    "    \n",
    "        if ei1==si2 or si1==ei2:    # 가로가 일치(붙어있는 경우)\n",
    "            ans = 'c'               # 점 (둘다 붙어있음)\n",
    "        \n",
    "        else:\n",
    "            ans = 'b'               # 변 (하나만 붙어있음)\n",
    "    \n",
    "    elif ei1==si2 or si1==ei2:      # 세로X, 가로일치\n",
    "        ans = 'b'\n",
    "    \n",
    "    else:\n",
    "        ans = 'a'\n",
    "    \n",
    "    print(ans)"
   ]
  }
 ],
 "metadata": {
  "kernelspec": {
   "display_name": "Python 3 (ipykernel)",
   "language": "python",
   "name": "python3"
  },
  "language_info": {
   "codemirror_mode": {
    "name": "ipython",
    "version": 3
   },
   "file_extension": ".py",
   "mimetype": "text/x-python",
   "name": "python",
   "nbconvert_exporter": "python",
   "pygments_lexer": "ipython3",
   "version": "3.8.16"
  },
  "toc": {
   "base_numbering": 1,
   "nav_menu": {},
   "number_sections": true,
   "sideBar": true,
   "skip_h1_title": false,
   "title_cell": "Table of Contents",
   "title_sidebar": "Contents",
   "toc_cell": false,
   "toc_position": {},
   "toc_section_display": true,
   "toc_window_display": false
  },
  "varInspector": {
   "cols": {
    "lenName": 16,
    "lenType": 16,
    "lenVar": 40
   },
   "kernels_config": {
    "python": {
     "delete_cmd_postfix": "",
     "delete_cmd_prefix": "del ",
     "library": "var_list.py",
     "varRefreshCmd": "print(var_dic_list())"
    },
    "r": {
     "delete_cmd_postfix": ") ",
     "delete_cmd_prefix": "rm(",
     "library": "var_list.r",
     "varRefreshCmd": "cat(var_dic_list()) "
    }
   },
   "types_to_exclude": [
    "module",
    "function",
    "builtin_function_or_method",
    "instance",
    "_Feature"
   ],
   "window_display": false
  }
 },
 "nbformat": 4,
 "nbformat_minor": 5
}
