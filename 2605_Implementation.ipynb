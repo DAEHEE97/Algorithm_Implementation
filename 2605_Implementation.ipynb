{
 "cells": [
  {
   "cell_type": "markdown",
   "id": "d88c7f1e",
   "metadata": {},
   "source": [
    "# 줄 세우기_구현\n",
    "\n",
    "- [줄 세우기](https://www.acmicpc.net/problem/2605)\n",
    "\n",
    "- reverse 처리"
   ]
  },
  {
   "cell_type": "code",
   "execution_count": 1,
   "id": "bbf8c6e3",
   "metadata": {},
   "outputs": [
    {
     "name": "stdout",
     "output_type": "stream",
     "text": [
      "5\n",
      "0 1 1 3 2\n",
      "4 2 5 3 1\n"
     ]
    }
   ],
   "source": [
    "N = int(input())\n",
    "\n",
    "lst = list(map(int, input().split()))\n",
    "\n",
    "lst.insert(1,0) # idx, 번호 통일 \n",
    "\n",
    "ans = []\n",
    "\n",
    "for i in range(1, N+1):\n",
    "    \n",
    "    n = lst[i]  # i번째 학생의 위치\n",
    "    \n",
    "    ans.insert(n, i)\n",
    "\n",
    "    \n",
    "ans.reverse()\n",
    "print(*ans)"
   ]
  },
  {
   "cell_type": "markdown",
   "id": "75fa78d0",
   "metadata": {},
   "source": [
    "---"
   ]
  },
  {
   "cell_type": "code",
   "execution_count": null,
   "id": "6ae700bc",
   "metadata": {},
   "outputs": [],
   "source": [
    "from collections import deque"
   ]
  },
  {
   "cell_type": "code",
   "execution_count": null,
   "id": "d352f65c",
   "metadata": {},
   "outputs": [],
   "source": [
    "q = deque()"
   ]
  },
  {
   "cell_type": "code",
   "execution_count": null,
   "id": "4d3599cb",
   "metadata": {},
   "outputs": [],
   "source": [
    "q.append(3)"
   ]
  },
  {
   "cell_type": "code",
   "execution_count": null,
   "id": "ad5b943b",
   "metadata": {},
   "outputs": [],
   "source": [
    "q.appendleft(4)"
   ]
  },
  {
   "cell_type": "code",
   "execution_count": null,
   "id": "7a7e2dd3",
   "metadata": {},
   "outputs": [],
   "source": [
    "q"
   ]
  },
  {
   "cell_type": "markdown",
   "id": "f05628d6",
   "metadata": {},
   "source": [
    "---"
   ]
  },
  {
   "cell_type": "markdown",
   "id": "46268ac7",
   "metadata": {},
   "source": [
    "## 구현"
   ]
  },
  {
   "cell_type": "code",
   "execution_count": null,
   "id": "c9a8019b",
   "metadata": {},
   "outputs": [],
   "source": [
    "N = int(input())\n",
    "\n",
    "lst = list(map(int, input().split()))\n",
    "\n",
    "ans = [ n for n in range(1, N+1) ] # 1,2,3,4,5\n",
    "\n",
    "for i in range(N):          # i위치의 학생을 순서대로 이동을 처리\n",
    "    \n",
    "    n, t = lst[i], ans[i]  # 앞으로 이동할 칸 수, 학생 번호\n",
    "\n",
    "    for j in range(i, i-n, -1):\n",
    "        ans[j] = ans[j-1]\n",
    "    \n",
    "    ans[i-n]=t\n",
    "\n",
    "print(*ans)"
   ]
  }
 ],
 "metadata": {
  "kernelspec": {
   "display_name": "Python 3 (ipykernel)",
   "language": "python",
   "name": "python3"
  },
  "language_info": {
   "codemirror_mode": {
    "name": "ipython",
    "version": 3
   },
   "file_extension": ".py",
   "mimetype": "text/x-python",
   "name": "python",
   "nbconvert_exporter": "python",
   "pygments_lexer": "ipython3",
   "version": "3.8.16"
  },
  "toc": {
   "base_numbering": 1,
   "nav_menu": {},
   "number_sections": true,
   "sideBar": true,
   "skip_h1_title": false,
   "title_cell": "Table of Contents",
   "title_sidebar": "Contents",
   "toc_cell": false,
   "toc_position": {},
   "toc_section_display": true,
   "toc_window_display": false
  },
  "varInspector": {
   "cols": {
    "lenName": 16,
    "lenType": 16,
    "lenVar": 40
   },
   "kernels_config": {
    "python": {
     "delete_cmd_postfix": "",
     "delete_cmd_prefix": "del ",
     "library": "var_list.py",
     "varRefreshCmd": "print(var_dic_list())"
    },
    "r": {
     "delete_cmd_postfix": ") ",
     "delete_cmd_prefix": "rm(",
     "library": "var_list.r",
     "varRefreshCmd": "cat(var_dic_list()) "
    }
   },
   "types_to_exclude": [
    "module",
    "function",
    "builtin_function_or_method",
    "instance",
    "_Feature"
   ],
   "window_display": false
  }
 },
 "nbformat": 4,
 "nbformat_minor": 5
}
