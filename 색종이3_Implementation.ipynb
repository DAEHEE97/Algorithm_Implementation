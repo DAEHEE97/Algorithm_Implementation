{
 "cells": [
  {
   "cell_type": "markdown",
   "id": "66813dc5",
   "metadata": {},
   "source": [
    "# 색종이3_구현\n",
    "\n",
    "- [색종이3](https://www.acmicpc.net/problem/10163)"
   ]
  },
  {
   "cell_type": "markdown",
   "id": "da3d5b0b",
   "metadata": {},
   "source": [
    "\n",
    "평면에 색깔이 서로 다른 직사각형 모양의 색종이 N장이 하나씩 차례로 놓여진다. 이때 색종이가 비스듬하게 놓이는 경우는 없다. 즉, 모든 색종이의 변은 서로 평행하거나, 서로 수직이거나 둘 중 하나이다. 그림-1은 1번, 2번, 3번 세 장의 색종이가 순서대로 놓인 상태를 보여준다.\n",
    "\n",
    "\n",
    "여기에 그림-2에서 보인 것처럼 4번 색종이가 하나 더 놓이면 3번 색종이는 완전히 가려서 보이지 않게 된다. 그리고, 1번 색종이와 2번 색종이는 부분적으로 가려 보이며, 4번 색종이는 완전히 보이게 된다.\n",
    "\n",
    "\n",
    "N장의 색종이가 주어진 위치에 차례로 놓일 경우, 각 색종이가 보이는 부분의 면적을 구하는 프로그램을 작성하시오. \n",
    "\n",
    "## 입력\n",
    "\n",
    "입력의 첫 번째 줄에는 색종이의 장수를 나타내는 정수 N (1 ≤ N ≤ 100)이 주어진다. 이어서 N장의 색종이에 관한 입력이 각 색종이마다 한 줄씩 차례로 주어진다. 색종이가 놓이는 평면은 가로 최대 1001칸, 세로 최대 1001칸으로 구성된 격자 모양이다. 격자의 각 칸은 가로, 세로 길이가 1인 면적이 1인 정사각형이다. \n",
    "\n",
    "편의상 가로 6칸, 세로 6칸으로 이루어진 격자의 예를 들어 설명하면, 각 칸에 표시된 값 (a,b)는 해당 칸의 번호를 나타낸다. 가장 왼쪽 아래의 칸은 (0,0) 가장 오른 쪽 위의 칸은 (5,5)이다. \n",
    "\n",
    "\n",
    "색종이가 놓인 상태는 가장 왼쪽 아래 칸의 번호와 너비, 높이를 나타내는 네 정수로 표현한다. 예를 들어, 위 그림에서 회색으로 표시된 색종이는 (1,4)가 가장 왼쪽 아래에 있고 너비 3, 높이 2이므로 1 4 3 2로 표현한다. 색종이가 격자 경계 밖으로 나가는 경우는 없다. \n",
    "\n",
    "## 출력\n",
    "\n",
    "입력에서 주어진 순서에 따라 N장의 색종이를 평면에 놓았을 때, 입력에서 주어진 순서대로 각 색종이가 보이는 부분의 면적을 한 줄에 하나씩 하나의 정수로 출력한다. 만약 색종이가 보이지 않는다면 정수 0을 출력한다. \n",
    "\n"
   ]
  },
  {
   "cell_type": "markdown",
   "id": "3d3f8a55",
   "metadata": {},
   "source": [
    "---"
   ]
  },
  {
   "cell_type": "markdown",
   "id": "a60bc6d2",
   "metadata": {},
   "source": [
    "## Memo\n",
    "\n",
    "- 입력 처리를 하나씩 대입 말고, 리스트 전체를 초기화 해서 시간 초과 해결\n",
    "\n"
   ]
  },
  {
   "cell_type": "markdown",
   "id": "b2ad2a56",
   "metadata": {},
   "source": [
    "---"
   ]
  },
  {
   "cell_type": "code",
   "execution_count": 8,
   "id": "cc4a8b51",
   "metadata": {},
   "outputs": [
    {
     "name": "stdout",
     "output_type": "stream",
     "text": [
      "4\n",
      "0 2 10 10\n",
      "7 9 8 4\n",
      "8 4 10 6\n",
      "6 0 12 10\n",
      "62\n",
      "24\n",
      "0\n",
      "120\n"
     ]
    }
   ],
   "source": [
    "# 2) arr lsti 가로 쭈욱 같은값으로 처리\n",
    "\n",
    "\n",
    "N = int(input())\n",
    "\n",
    "arr = [ [0]*(1001) for _ in range(1001) ]\n",
    "\n",
    "for n in range(1, N+1):\n",
    "    \n",
    "    si,sj,w,h = map(int, input().split())\n",
    "    \n",
    "    for i in range(si, si+w):\n",
    "        \n",
    "        arr[i][sj:sj+h] = [n] * h\n",
    "        \n",
    "\n",
    "cnt = [0] * (N+1)\n",
    "\n",
    "for n in range(1, N+1):\n",
    "    \n",
    "    for lst in arr:\n",
    "        \n",
    "        cnt[n] += lst.count(n)\n",
    "    \n",
    "    print(cnt[n])\n",
    "    \n",
    "    \n",
    "    "
   ]
  },
  {
   "cell_type": "markdown",
   "id": "a8fb6bd7",
   "metadata": {},
   "source": [
    "---"
   ]
  },
  {
   "cell_type": "code",
   "execution_count": null,
   "id": "424fe23a",
   "metadata": {},
   "outputs": [],
   "source": [
    "# 1) si,sj 대입 \n",
    "\n",
    "N = int(input())\n",
    "\n",
    "arr = [ [0]*(1001) for _ in range(1001) ]\n",
    "\n",
    "for n in range(1, N+1):\n",
    "    \n",
    "    si,sj,w,h = map(int, input().split())\n",
    "    \n",
    "    for i in range(si, si+w):\n",
    "        \n",
    "        for j in range(sj, sj+h):\n",
    "            \n",
    "            arr[i][j] = n\n"
   ]
  },
  {
   "cell_type": "markdown",
   "id": "510e2b4a",
   "metadata": {},
   "source": [
    "---"
   ]
  },
  {
   "cell_type": "code",
   "execution_count": null,
   "id": "a45ac293",
   "metadata": {},
   "outputs": [],
   "source": [
    "# 출력 \n",
    "    \n",
    "for n in range(1, N+1):\n",
    "    \n",
    "    cnt = 0\n",
    "    \n",
    "    for lst in arr:\n",
    "        cnt += lst.count(n)\n",
    "    \n",
    "    print(cnt)\n",
    "        "
   ]
  }
 ],
 "metadata": {
  "kernelspec": {
   "display_name": "Python 3 (ipykernel)",
   "language": "python",
   "name": "python3"
  },
  "language_info": {
   "codemirror_mode": {
    "name": "ipython",
    "version": 3
   },
   "file_extension": ".py",
   "mimetype": "text/x-python",
   "name": "python",
   "nbconvert_exporter": "python",
   "pygments_lexer": "ipython3",
   "version": "3.8.16"
  },
  "toc": {
   "base_numbering": 1,
   "nav_menu": {},
   "number_sections": true,
   "sideBar": true,
   "skip_h1_title": false,
   "title_cell": "Table of Contents",
   "title_sidebar": "Contents",
   "toc_cell": false,
   "toc_position": {},
   "toc_section_display": true,
   "toc_window_display": false
  },
  "varInspector": {
   "cols": {
    "lenName": 16,
    "lenType": 16,
    "lenVar": 40
   },
   "kernels_config": {
    "python": {
     "delete_cmd_postfix": "",
     "delete_cmd_prefix": "del ",
     "library": "var_list.py",
     "varRefreshCmd": "print(var_dic_list())"
    },
    "r": {
     "delete_cmd_postfix": ") ",
     "delete_cmd_prefix": "rm(",
     "library": "var_list.r",
     "varRefreshCmd": "cat(var_dic_list()) "
    }
   },
   "types_to_exclude": [
    "module",
    "function",
    "builtin_function_or_method",
    "instance",
    "_Feature"
   ],
   "window_display": false
  }
 },
 "nbformat": 4,
 "nbformat_minor": 5
}
