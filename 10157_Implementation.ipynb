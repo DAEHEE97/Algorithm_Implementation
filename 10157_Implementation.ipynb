{
 "cells": [
  {
   "cell_type": "markdown",
   "id": "088a6e26",
   "metadata": {},
   "source": [
    "# 자리배정_구현\n",
    "\n",
    "- [자리배정](https://www.acmicpc.net/problem/10157)"
   ]
  },
  {
   "cell_type": "markdown",
   "id": "20e15d86",
   "metadata": {},
   "source": [
    "## src 1\n",
    "\n",
    "- 2차원 arr, 4방향,  범위 내 and 0이면,\n",
    "\n",
    "- 2차원 배열에서 행, 열 i,j 구하기\n",
    "    - cnt\n",
    "    - for lst in arr, for lst in arr_T 로 2번 구하기"
   ]
  },
  {
   "cell_type": "markdown",
   "id": "bdb2c8b1",
   "metadata": {},
   "source": [
    "---"
   ]
  },
  {
   "cell_type": "code",
   "execution_count": 5,
   "id": "affcb45e",
   "metadata": {},
   "outputs": [],
   "source": [
    "C, R = map(int, input().split())\n",
    "K = int(input())\n",
    "\n",
    "arr = [ [0] * R for _ in range(C)]\n",
    "\n",
    "si = 0\n",
    "sj = 0\n",
    "cnt = 1\n",
    "\n",
    "\n",
    "# 1) 입력\n",
    "arr[si][sj] = cnt\n",
    "\n",
    "while(True):\n",
    "    \n",
    "    for di, dj in ( (0,1),(1,0),(0,-1),(-1,0) ):\n",
    "        \n",
    "        \n",
    "        while(True):\n",
    "            \n",
    "            ni, nj = si+di, sj+dj\n",
    "\n",
    "            if 0<=ni<C and 0<=nj<R and arr[ni][nj]==0:\n",
    "                cnt += 1\n",
    "                arr[ni][nj] = cnt\n",
    "                si, sj = ni, nj\n",
    "            \n",
    "            else:\n",
    "                break\n",
    "                \n",
    "    \n",
    "    if cnt == (C * R):\n",
    "        break\n",
    "\n",
    "# 2) 좌표 처리         \n",
    "ans = 0\n",
    "\n",
    "for i in range(0, C):\n",
    "    \n",
    "    for j in range(0, R):\n",
    "        \n",
    "        if arr[i][j] == K:\n",
    "            ans = (i+1, j+1)\n",
    "            break\n",
    "\n",
    "if ans != 0:\n",
    "    print(*ans)\n",
    "else:\n",
    "    print(ans)\n",
    "    \n",
    "    "
   ]
  },
  {
   "cell_type": "code",
   "execution_count": 6,
   "id": "88e34b64",
   "metadata": {},
   "outputs": [
    {
     "data": {
      "text/plain": [
       "[[1, 2, 3, 4, 5, 6],\n",
       " [22, 23, 24, 25, 26, 7],\n",
       " [21, 36, 37, 38, 27, 8],\n",
       " [20, 35, 42, 39, 28, 9],\n",
       " [19, 34, 41, 40, 29, 10],\n",
       " [18, 33, 32, 31, 30, 11],\n",
       " [17, 16, 15, 14, 13, 12]]"
      ]
     },
     "execution_count": 6,
     "metadata": {},
     "output_type": "execute_result"
    }
   ],
   "source": [
    "arr"
   ]
  },
  {
   "cell_type": "markdown",
   "id": "eefcee19",
   "metadata": {},
   "source": [
    "---"
   ]
  },
  {
   "cell_type": "markdown",
   "id": "0d485369",
   "metadata": {},
   "source": [
    "## src 2\n",
    "\n",
    "- 1 padding, 범위 밖 or 0이 아니면, 방향 전환\n",
    "\n",
    "- 방향 전환 : % 4 론 나누어 4방향 처리"
   ]
  },
  {
   "cell_type": "code",
   "execution_count": null,
   "id": "999abfd8",
   "metadata": {},
   "outputs": [],
   "source": [
    "C, R = map(int, input().split())\n",
    "\n",
    "K = int(input())\n",
    "\n",
    "if R*C < K:     # 배정이 불가능한 경우 0\n",
    "    print(0)\n",
    "\n",
    "else:           # 배정하면서 K가 되면 그때 좌표 출력\n",
    "    \n",
    "    # 아래, 우, 위, 좌\n",
    "    di = [1, 0, -1, 0]\n",
    "    dj = [0, 1, 0, -1]\n",
    "    \n",
    "    # 주변을 1로 둘러싸면: 범위체크 필요 없음\n",
    "    arr = [ [1]*(C+2)] + [ [1] + ([0]*C) + [1] for _ in range(R) ] + [[1]*(C+2) ]\n",
    "    \n",
    "\n",
    "    ci, cj = 1, 1\n",
    "    \n",
    "    dr = 0\n",
    "    \n",
    "    for n in range(1, K):\n",
    "        \n",
    "        arr[ci][cj] = n\n",
    "        \n",
    "        ni, nj = ci + di[dr], cj + dj[dr]\n",
    "        \n",
    "        if arr[ni][nj] == 0:          # 비어있으니 이동가능\n",
    "            ci,cj = ni,nj\n",
    "        \n",
    "        else:                         # 범위밖 또는 이미 기록한 위치\n",
    "            dr = (dr+1) % 4           # 방향 전환\n",
    "            ci,cj = ci+di[dr], cj+dj[dr]\n",
    "            \n",
    "    print(f'{cj} {ci}')"
   ]
  }
 ],
 "metadata": {
  "kernelspec": {
   "display_name": "Python 3 (ipykernel)",
   "language": "python",
   "name": "python3"
  },
  "language_info": {
   "codemirror_mode": {
    "name": "ipython",
    "version": 3
   },
   "file_extension": ".py",
   "mimetype": "text/x-python",
   "name": "python",
   "nbconvert_exporter": "python",
   "pygments_lexer": "ipython3",
   "version": "3.8.16"
  },
  "toc": {
   "base_numbering": 1,
   "nav_menu": {},
   "number_sections": true,
   "sideBar": true,
   "skip_h1_title": false,
   "title_cell": "Table of Contents",
   "title_sidebar": "Contents",
   "toc_cell": false,
   "toc_position": {},
   "toc_section_display": true,
   "toc_window_display": false
  },
  "varInspector": {
   "cols": {
    "lenName": 16,
    "lenType": 16,
    "lenVar": 40
   },
   "kernels_config": {
    "python": {
     "delete_cmd_postfix": "",
     "delete_cmd_prefix": "del ",
     "library": "var_list.py",
     "varRefreshCmd": "print(var_dic_list())"
    },
    "r": {
     "delete_cmd_postfix": ") ",
     "delete_cmd_prefix": "rm(",
     "library": "var_list.r",
     "varRefreshCmd": "cat(var_dic_list()) "
    }
   },
   "types_to_exclude": [
    "module",
    "function",
    "builtin_function_or_method",
    "instance",
    "_Feature"
   ],
   "window_display": false
  }
 },
 "nbformat": 4,
 "nbformat_minor": 5
}
