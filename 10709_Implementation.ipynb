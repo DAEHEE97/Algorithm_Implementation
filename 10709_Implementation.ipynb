{
 "cells": [
  {
   "cell_type": "markdown",
   "id": "8c318f43",
   "metadata": {},
   "source": [
    "# 기상캐스터\n",
    "\n",
    "- [기상캐스터](https://www.acmicpc.net/problem/10709)"
   ]
  },
  {
   "cell_type": "markdown",
   "id": "58e1a237",
   "metadata": {},
   "source": [
    "- flag"
   ]
  },
  {
   "cell_type": "code",
   "execution_count": 1,
   "id": "e86d3709",
   "metadata": {},
   "outputs": [
    {
     "name": "stdout",
     "output_type": "stream",
     "text": [
      "3 4\n",
      "c..c\n",
      "..c.\n",
      "....\n",
      "0 1 2 0\n",
      "-1 -1 0 1\n",
      "-1 -1 -1 -1\n"
     ]
    }
   ],
   "source": [
    "H, W = map(int, input().split())\n",
    "\n",
    "arr = [ list(input()) for _ in range(H) ]\n",
    "\n",
    "ans = [ [0] * W for _ in range(H) ] \n",
    "\n",
    "\n",
    "for i in range(H):\n",
    "    \n",
    "    # 행 마다 초기화\n",
    "    \n",
    "    cnt = 0    \n",
    "    flag = False\n",
    "    \n",
    "    for j in range(W):\n",
    "        \n",
    "        if arr[i][j] == 'c':\n",
    "            cnt = 0\n",
    "            ans[i][j] = cnt\n",
    "            flag = True\n",
    "        \n",
    "        # 'c'를 만나고 난후 점을 만나면 cnt \n",
    "        elif arr[i][j] == '.' and flag == True:\n",
    "            cnt += 1\n",
    "            ans[i][j] = cnt\n",
    "        \n",
    "        elif arr[i][j] == '.' and flag == False:\n",
    "            ans[i][j] = -1\n",
    "\n",
    "for lst in ans:\n",
    "    print(*lst)"
   ]
  },
  {
   "cell_type": "markdown",
   "id": "d02be43a",
   "metadata": {},
   "source": [
    "---"
   ]
  },
  {
   "cell_type": "markdown",
   "id": "f80470c3",
   "metadata": {},
   "source": [
    "- cnt 상태"
   ]
  },
  {
   "cell_type": "code",
   "execution_count": 3,
   "id": "e1cd8a62",
   "metadata": {},
   "outputs": [
    {
     "name": "stdout",
     "output_type": "stream",
     "text": [
      "3 4\n",
      "c..c\n",
      "..c.\n",
      "....\n",
      "0 1 2 0\n",
      "-1 -1 0 1\n",
      "-1 -1 -1 -1\n"
     ]
    }
   ],
   "source": [
    "H, W = map(int, input().split())\n",
    "\n",
    "arr = [input() for _ in range(H)]\n",
    "\n",
    "ans = [ [0] * W for _ in range(H) ] \n",
    "\n",
    "for i in range(H):\n",
    "    \n",
    "    cnt = -1                # 기본 처리\n",
    "    \n",
    "    for j in range(W):\n",
    "        \n",
    "        if arr[i][j]=='c':  # 구름을 만나면 0으로 초기화, 증가시작!\n",
    "            cnt = 0\n",
    "        \n",
    "        elif cnt >= 0:      # 현재 구름 x, 이전에 구름을 만났다면 cnt >= 0 인 상태\n",
    "            cnt += 1       \n",
    "        \n",
    "        \n",
    "        ans[i][j] = cnt     # 현재 구름 x, 이전에 구름을 만나지 않음 cnt -1 \n",
    "\n",
    "for lst in ans:\n",
    "    print(*lst)"
   ]
  },
  {
   "cell_type": "code",
   "execution_count": null,
   "id": "e2a11d2e",
   "metadata": {},
   "outputs": [],
   "source": []
  }
 ],
 "metadata": {
  "kernelspec": {
   "display_name": "Python 3 (ipykernel)",
   "language": "python",
   "name": "python3"
  },
  "language_info": {
   "codemirror_mode": {
    "name": "ipython",
    "version": 3
   },
   "file_extension": ".py",
   "mimetype": "text/x-python",
   "name": "python",
   "nbconvert_exporter": "python",
   "pygments_lexer": "ipython3",
   "version": "3.8.16"
  },
  "toc": {
   "base_numbering": 1,
   "nav_menu": {},
   "number_sections": true,
   "sideBar": true,
   "skip_h1_title": false,
   "title_cell": "Table of Contents",
   "title_sidebar": "Contents",
   "toc_cell": false,
   "toc_position": {},
   "toc_section_display": true,
   "toc_window_display": false
  },
  "varInspector": {
   "cols": {
    "lenName": 16,
    "lenType": 16,
    "lenVar": 40
   },
   "kernels_config": {
    "python": {
     "delete_cmd_postfix": "",
     "delete_cmd_prefix": "del ",
     "library": "var_list.py",
     "varRefreshCmd": "print(var_dic_list())"
    },
    "r": {
     "delete_cmd_postfix": ") ",
     "delete_cmd_prefix": "rm(",
     "library": "var_list.r",
     "varRefreshCmd": "cat(var_dic_list()) "
    }
   },
   "types_to_exclude": [
    "module",
    "function",
    "builtin_function_or_method",
    "instance",
    "_Feature"
   ],
   "window_display": false
  }
 },
 "nbformat": 4,
 "nbformat_minor": 5
}
