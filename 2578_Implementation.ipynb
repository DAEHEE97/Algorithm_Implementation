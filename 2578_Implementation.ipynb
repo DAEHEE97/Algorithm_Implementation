{
 "cells": [
  {
   "cell_type": "markdown",
   "id": "f8bc2e6e",
   "metadata": {},
   "source": [
    "# 빙고\n",
    "\n",
    "- [빙고](https://www.acmicpc.net/problem/2578)"
   ]
  },
  {
   "cell_type": "markdown",
   "id": "8eb0bc62",
   "metadata": {},
   "source": [
    "\n",
    "- lst + 연산 :  2d arr 입력 > 1d lst\n",
    "\n",
    "- pos_lst : 좌표 리스트\n",
    "\n",
    "- v idx i,j 의미 : -2 -1 0 1 2"
   ]
  },
  {
   "cell_type": "code",
   "execution_count": null,
   "id": "339fd1a4",
   "metadata": {},
   "outputs": [],
   "source": [
    "# 5 * 5 arr\n",
    "arr = [ list(map(int, input().split())) for _ in range(5) ]\n",
    "\n",
    "\n",
    "# 번호 리스트 2d 입력, 1d lst\n",
    "lst = []\n",
    "\n",
    "for _ in range(5):\n",
    "    lst += list(map(int, input().split()))\n",
    "    \n",
    "    \n",
    "    \n",
    "# 2d arr 의 좌표 리스트 \n",
    "\n",
    "pos_lst = [0] * 26\n",
    "for i in range(5):\n",
    "    \n",
    "    for j in range(5):\n",
    "        \n",
    "        pos_lst[arr[i][j]] = (i,j)\n",
    "    \n",
    "# --- 입력\n",
    "\n",
    "# 처리\n",
    "\n",
    "v = [ [0] * 10 for _ in range(4) ] \n",
    "\n",
    "\n",
    "ans = 0\n",
    "\n",
    "# 값을 하나씩 꺼낼때마다 검사\n",
    "for n in lst:\n",
    "    \n",
    "    ans += 1\n",
    "    \n",
    "    i,j = pos_lst[n]\n",
    "    \n",
    "    v[0][j] += 1\n",
    "    v[1][i] += 1\n",
    "    v[2][i-j] += 1\n",
    "    v[3][i+j] += 1\n",
    "    \n",
    "    cnt = 0\n",
    "    \n",
    "    # v0, v1, v2, v3 모두 검사 후 처리\n",
    "    for tlst in v:\n",
    "        cnt += tlst.count(5)\n",
    "    \n",
    "    if cnt >= 3:\n",
    "        break\n",
    "        \n",
    "print(ans)\n",
    "    "
   ]
  },
  {
   "cell_type": "code",
   "execution_count": 16,
   "id": "ddc9da1c",
   "metadata": {},
   "outputs": [],
   "source": [
    "v = [0] * 10"
   ]
  },
  {
   "cell_type": "code",
   "execution_count": 17,
   "id": "0c385600",
   "metadata": {},
   "outputs": [],
   "source": [
    "v[0] = 1\n",
    "v[-1] = 2\n",
    "v[2] = 3\n",
    "v[4] = 1\n",
    "v[-3] = 1 "
   ]
  },
  {
   "cell_type": "code",
   "execution_count": 18,
   "id": "104b71c7",
   "metadata": {},
   "outputs": [
    {
     "data": {
      "text/plain": [
       "[1, 0, 3, 0, 1, 0, 0, 1, 0, 2]"
      ]
     },
     "execution_count": 18,
     "metadata": {},
     "output_type": "execute_result"
    }
   ],
   "source": [
    "v"
   ]
  },
  {
   "cell_type": "markdown",
   "id": "049b9956",
   "metadata": {},
   "source": [
    "---"
   ]
  },
  {
   "cell_type": "code",
   "execution_count": 6,
   "id": "dd967218",
   "metadata": {},
   "outputs": [
    {
     "name": "stdout",
     "output_type": "stream",
     "text": [
      "11 12 2 24 10\n",
      "16 1 13 3 25\n",
      "6 20 5 21 17\n",
      "19 4 8 14 9\n",
      "22 15 7 23 18\n",
      "5 10 7 16 2\n",
      "4 22 8 17 13\n",
      "3 18 1 6 25\n",
      "12 19 23 14 21\n",
      "11 24 9 20 15\n"
     ]
    }
   ],
   "source": [
    "# 5 * 5 arr\n",
    "arr = [ list(map(int, input().split())) for _ in range(5) ]\n",
    "\n",
    "\n",
    "# 번호 리스트 2d 입력, 1d lst\n",
    "lst = []\n",
    "\n",
    "for _ in range(5):\n",
    "    lst += list(map(int, input().split()))\n",
    "    \n",
    "    \n",
    "    \n",
    "# 2d arr 의 좌표 리스트 \n",
    "\n",
    "pos_lst = [0] * 26\n",
    "for i in range(5):\n",
    "    \n",
    "    for j in range(5):\n",
    "        \n",
    "        pos_lst[arr[i][j]] = (i,j)\n",
    "    "
   ]
  },
  {
   "cell_type": "code",
   "execution_count": 14,
   "id": "137adcad",
   "metadata": {},
   "outputs": [
    {
     "data": {
      "text/plain": [
       "[[11, 12, 2, 24, 10],\n",
       " [16, 1, 13, 3, 25],\n",
       " [6, 20, 5, 21, 17],\n",
       " [19, 4, 8, 14, 9],\n",
       " [22, 15, 7, 23, 18]]"
      ]
     },
     "execution_count": 14,
     "metadata": {},
     "output_type": "execute_result"
    }
   ],
   "source": [
    "arr"
   ]
  },
  {
   "cell_type": "code",
   "execution_count": 15,
   "id": "2d63cdae",
   "metadata": {},
   "outputs": [
    {
     "data": {
      "text/plain": [
       "[5,\n",
       " 10,\n",
       " 7,\n",
       " 16,\n",
       " 2,\n",
       " 4,\n",
       " 22,\n",
       " 8,\n",
       " 17,\n",
       " 13,\n",
       " 3,\n",
       " 18,\n",
       " 1,\n",
       " 6,\n",
       " 25,\n",
       " 12,\n",
       " 19,\n",
       " 23,\n",
       " 14,\n",
       " 21,\n",
       " 11,\n",
       " 24,\n",
       " 9,\n",
       " 20,\n",
       " 15]"
      ]
     },
     "execution_count": 15,
     "metadata": {},
     "output_type": "execute_result"
    }
   ],
   "source": [
    "lst"
   ]
  },
  {
   "cell_type": "code",
   "execution_count": 12,
   "id": "d69992fa",
   "metadata": {},
   "outputs": [
    {
     "data": {
      "text/plain": [
       "((1, 1), (0, 0))"
      ]
     },
     "execution_count": 12,
     "metadata": {},
     "output_type": "execute_result"
    }
   ],
   "source": [
    "pos_lst[1], pos_lst[11] # 1의 위치 1,1 # 11의 위치 0,0"
   ]
  }
 ],
 "metadata": {
  "kernelspec": {
   "display_name": "Python 3 (ipykernel)",
   "language": "python",
   "name": "python3"
  },
  "language_info": {
   "codemirror_mode": {
    "name": "ipython",
    "version": 3
   },
   "file_extension": ".py",
   "mimetype": "text/x-python",
   "name": "python",
   "nbconvert_exporter": "python",
   "pygments_lexer": "ipython3",
   "version": "3.8.16"
  },
  "toc": {
   "base_numbering": 1,
   "nav_menu": {},
   "number_sections": true,
   "sideBar": true,
   "skip_h1_title": false,
   "title_cell": "Table of Contents",
   "title_sidebar": "Contents",
   "toc_cell": false,
   "toc_position": {},
   "toc_section_display": true,
   "toc_window_display": false
  },
  "varInspector": {
   "cols": {
    "lenName": 16,
    "lenType": 16,
    "lenVar": 40
   },
   "kernels_config": {
    "python": {
     "delete_cmd_postfix": "",
     "delete_cmd_prefix": "del ",
     "library": "var_list.py",
     "varRefreshCmd": "print(var_dic_list())"
    },
    "r": {
     "delete_cmd_postfix": ") ",
     "delete_cmd_prefix": "rm(",
     "library": "var_list.r",
     "varRefreshCmd": "cat(var_dic_list()) "
    }
   },
   "types_to_exclude": [
    "module",
    "function",
    "builtin_function_or_method",
    "instance",
    "_Feature"
   ],
   "window_display": false
  }
 },
 "nbformat": 4,
 "nbformat_minor": 5
}
