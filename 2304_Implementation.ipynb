{
 "cells": [
  {
   "cell_type": "markdown",
   "id": "9ddb0886",
   "metadata": {},
   "source": [
    "# [창고 다각형](https://www.acmicpc.net/problem/2304)\n",
    "\n",
    "- 최적화 구현\n",
    "\n",
    "- 자료 구조\n",
    "\n",
    "- 브루트포스 알고리즘\n",
    "\n",
    "- 스택\n",
    "\n",
    "- max_idx 중복 상관 없음"
   ]
  },
  {
   "cell_type": "markdown",
   "id": "d61c3e77",
   "metadata": {},
   "source": [
    "---\n"
   ]
  },
  {
   "cell_type": "code",
   "execution_count": 30,
   "id": "ce19cf25",
   "metadata": {},
   "outputs": [
    {
     "name": "stdout",
     "output_type": "stream",
     "text": [
      "7\n",
      "2 4\n",
      "11 4\n",
      "15 8\n",
      "4 6\n",
      "5 3\n",
      "8 10\n",
      "13 6\n",
      "98\n"
     ]
    }
   ],
   "source": [
    "N = int(input())\n",
    "\n",
    "arr = [ list(map(int, input().split())) for _ in range(N) ] \n",
    "\n",
    "# 정렬\n",
    "arr.sort(key = lambda x : x[0])\n",
    "\n",
    "start = arr[0][0]\n",
    "end = arr[-1][0]\n",
    "\n",
    "\n",
    "# arr값 lst 대입\n",
    "lst = [0] * (end+1)\n",
    "\n",
    "for i,v in arr:\n",
    "    lst[i] = v\n",
    "\n",
    "\n",
    "max_i = lst.index(max(lst))\n",
    "\n",
    "ans = 0\n",
    "\n",
    "# 좌\n",
    "t_max = 0\n",
    "\n",
    "for i in range(start, max_i +1):\n",
    "    \n",
    "    if lst[i] >= t_max:\n",
    "        t_max = lst[i]\n",
    "    \n",
    "    ans += t_max\n",
    "\n",
    "# 우    \n",
    "t_max = 0\n",
    "\n",
    "for i in range(end, max_i, -1):\n",
    "    \n",
    "    if lst[i] >= t_max:\n",
    "        t_max = lst[i]\n",
    "        \n",
    "    ans += t_max\n",
    "\n",
    "print(ans)\n"
   ]
  },
  {
   "cell_type": "markdown",
   "id": "9b59a27a",
   "metadata": {},
   "source": [
    "---"
   ]
  },
  {
   "cell_type": "code",
   "execution_count": null,
   "id": "1ca9af3c",
   "metadata": {},
   "outputs": [],
   "source": [
    "\n",
    "# 입력 N 의 크기 제한이 1000 이하이므로, lst 1000+1 로 [0] 으로 만들어서, 누적합 시 +0 처리  \n",
    "\n",
    "N = int(input())\n",
    "\n",
    "lst = [0] * (1000+1)\n",
    "\n",
    "# 입력 처리, max idx, max value 모두 구하기\n",
    "\n",
    "max_i = 0\n",
    "max_v = 0\n",
    "\n",
    "for _ in range(N):\n",
    "    \n",
    "    L, H = map(int, input().split())\n",
    "    \n",
    "    lst[L] = H\n",
    "\n",
    "    if H > max_v:\n",
    "        max_i, max_v = L, H\n",
    "\n",
    "\n",
    "ans = 0\n",
    "\n",
    "# 좌, max_idx 포함\n",
    "t_max = 0\n",
    "\n",
    "for i in range(0, max_i+1):\n",
    "    \n",
    "    t_max  = max(t_max, lst[i])\n",
    "    ans += t_max \n",
    "\n",
    "# 우 max_idx 전까지 \n",
    "t_max = 0\n",
    "\n",
    "for i in range(1000, max_i, -1):\n",
    "    t_max  = max(t_max, lst[i])\n",
    "    ans += t_max \n",
    "\n",
    "print(ans)"
   ]
  }
 ],
 "metadata": {
  "kernelspec": {
   "display_name": "Python 3 (ipykernel)",
   "language": "python",
   "name": "python3"
  },
  "language_info": {
   "codemirror_mode": {
    "name": "ipython",
    "version": 3
   },
   "file_extension": ".py",
   "mimetype": "text/x-python",
   "name": "python",
   "nbconvert_exporter": "python",
   "pygments_lexer": "ipython3",
   "version": "3.8.16"
  },
  "toc": {
   "base_numbering": 1,
   "nav_menu": {},
   "number_sections": true,
   "sideBar": true,
   "skip_h1_title": false,
   "title_cell": "Table of Contents",
   "title_sidebar": "Contents",
   "toc_cell": false,
   "toc_position": {},
   "toc_section_display": true,
   "toc_window_display": false
  },
  "varInspector": {
   "cols": {
    "lenName": 16,
    "lenType": 16,
    "lenVar": 40
   },
   "kernels_config": {
    "python": {
     "delete_cmd_postfix": "",
     "delete_cmd_prefix": "del ",
     "library": "var_list.py",
     "varRefreshCmd": "print(var_dic_list())"
    },
    "r": {
     "delete_cmd_postfix": ") ",
     "delete_cmd_prefix": "rm(",
     "library": "var_list.r",
     "varRefreshCmd": "cat(var_dic_list()) "
    }
   },
   "types_to_exclude": [
    "module",
    "function",
    "builtin_function_or_method",
    "instance",
    "_Feature"
   ],
   "window_display": false
  }
 },
 "nbformat": 4,
 "nbformat_minor": 5
}
